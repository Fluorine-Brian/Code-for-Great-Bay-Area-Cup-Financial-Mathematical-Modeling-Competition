{
 "cells": [
  {
   "cell_type": "code",
   "id": "initial_id",
   "metadata": {
    "collapsed": true,
    "ExecuteTime": {
     "end_time": "2024-11-02T02:34:34.042488Z",
     "start_time": "2024-11-02T02:34:34.034546Z"
    }
   },
   "source": [
    "import numpy as np\n",
    "import pandas as pd\n",
    "import matplotlib.pyplot as plt\n",
    "import os"
   ],
   "execution_count": 8,
   "outputs": []
  },
  {
   "metadata": {
    "ExecuteTime": {
     "end_time": "2024-11-02T03:31:57.867047Z",
     "start_time": "2024-11-02T03:31:57.859417Z"
    }
   },
   "cell_type": "code",
   "source": "data_folder = \"./沪深300成分股的数据/\"",
   "id": "e08656dc08bdfa54",
   "execution_count": 41,
   "outputs": []
  },
  {
   "metadata": {
    "ExecuteTime": {
     "end_time": "2024-11-02T02:56:16.010109Z",
     "start_time": "2024-11-02T02:56:15.993105Z"
    }
   },
   "cell_type": "code",
   "source": [
    "def winsorize(series, lower_percentile=5, upper_percentile=95):\n",
    "    lower_limit = np.percentile(series, lower_percentile)\n",
    "    upper_limit = np.percentile(series, upper_percentile)\n",
    "    return np.clip(series, lower_limit, upper_limit)"
   ],
   "id": "6ffbe0910bbc3a14",
   "execution_count": 10,
   "outputs": []
  },
  {
   "metadata": {
    "ExecuteTime": {
     "end_time": "2024-11-02T03:30:01.823806Z",
     "start_time": "2024-11-02T03:30:01.809811Z"
    }
   },
   "cell_type": "code",
   "source": [
    "# 加载数据的函数，包括成分股信息和行情数据的合并\n",
    "def load_data(year):\n",
    "    stock_info_path = os.path.join(data_folder, f'hs300stocks_{year}_utf-8.csv')\n",
    "    kdata_path = os.path.join(data_folder, f'hs300stocks_kdata_{year}_utf-8.csv')\n",
    "    \n",
    "    # 读取CSV文件\n",
    "    stock_info = pd.read_csv(stock_info_path)\n",
    "    kdata = pd.read_csv(kdata_path)\n",
    "    \n",
    "    # 合并成分股信息和每日行情数据\n",
    "    data = pd.merge(kdata, stock_info[['code', 'weight']], on='code')\n",
    "    return data"
   ],
   "id": "51e9f4fca8452819",
   "execution_count": 34,
   "outputs": []
  },
  {
   "metadata": {
    "ExecuteTime": {
     "end_time": "2024-11-02T03:02:22.296966Z",
     "start_time": "2024-11-02T03:02:22.289984Z"
    }
   },
   "cell_type": "code",
   "source": [
    "def calculate_daily_returns(data):\n",
    "    # 计算前一日收盘价\n",
    "    data['prev_close'] = data.groupby('code')['close'].shift(1)\n",
    "    # 计算每日收益率\n",
    "    data['daily_return'] = (data['close'] - data['prev_close']) / data['prev_close']\n",
    "    # 去掉因移动计算而产生的NaN值\n",
    "    data = data.dropna(subset=['daily_return'])\n",
    "    return data"
   ],
   "id": "d0f9cde951c3bf2f",
   "execution_count": 19,
   "outputs": []
  },
  {
   "metadata": {
    "ExecuteTime": {
     "end_time": "2024-11-02T03:02:24.374922Z",
     "start_time": "2024-11-02T03:02:24.366876Z"
    }
   },
   "cell_type": "code",
   "source": [
    "# 计算加权平均收益率的函数\n",
    "def calculate_weighted_returns(data):\n",
    "    # 计算每日的加权收益率\n",
    "    data['weighted_return'] = data['daily_return'] * data['weight']\n",
    "    # 根据日期汇总，计算指数每日加权收益率\n",
    "    daily_index_returns = data.groupby('time')['weighted_return'].sum()\n",
    "    return daily_index_returns"
   ],
   "id": "39c8c8ed8e9fad3d",
   "execution_count": 20,
   "outputs": []
  },
  {
   "metadata": {
    "ExecuteTime": {
     "end_time": "2024-11-02T03:02:26.150004Z",
     "start_time": "2024-11-02T03:02:26.131723Z"
    }
   },
   "cell_type": "code",
   "source": [
    "# 计算年度平均收益率的函数\n",
    "def calculate_annual_average_return(daily_index_returns):\n",
    "    # Winsor化处理，消除极端值的影响\n",
    "    winsorized_daily_index_returns = winsorize(daily_index_returns)\n",
    "    # 计算年度平均收益率\n",
    "    annual_average_return = np.mean(winsorized_daily_index_returns)\n",
    "    return annual_average_return"
   ],
   "id": "1e2484163ef0357b",
   "execution_count": 21,
   "outputs": []
  },
  {
   "metadata": {
    "ExecuteTime": {
     "end_time": "2024-11-07T15:09:44.261079Z",
     "start_time": "2024-11-07T15:09:44.245129Z"
    }
   },
   "cell_type": "code",
   "source": [
    "# 主函数，遍历所有年份并调用前面定义的函数\n",
    "def main():\n",
    "    annual_returns = {}  # 存储每年的年度加权平均收益率\n",
    "    \n",
    "    # 遍历2014至2024年\n",
    "    for year in range(2014, 2025):\n",
    "        print(f\"正在处理{year}年的数据...\")\n",
    "        # 加载数据\n",
    "        data = load_data(year)\n",
    "        # 计算每日收益率\n",
    "        data = calculate_daily_returns(data)\n",
    "        # 计算每日加权收益率\n",
    "        daily_index_returns = calculate_weighted_returns(data)\n",
    "        # 计算年度平均收益率\n",
    "        annual_average_return = calculate_annual_average_return(daily_index_returns)\n",
    "        # 存储年度平均收益率\n",
    "        annual_returns[year] = annual_average_return\n",
    "\n",
    "    # 计算总体平均收益率\n",
    "    overall_average_return = np.mean(list(annual_returns.values()))\n",
    "    \n",
    "    # 输出每年及总体平均收益率\n",
    "    print(\"\\n各年度加权平均收益率：\")\n",
    "    for year, return_value in annual_returns.items():\n",
    "        print(f\"{year}年: {return_value:.4f}\")\n",
    "    print(f\"\\n2014-2024年总体平均收益率：{overall_average_return:.4f}\")"
   ],
   "id": "654ef52bccc8d684",
   "outputs": [],
   "execution_count": 2
  },
  {
   "metadata": {},
   "cell_type": "code",
   "outputs": [],
   "execution_count": null,
   "source": "",
   "id": "ad1f5fb3d6df4d2e"
  },
  {
   "metadata": {
    "ExecuteTime": {
     "end_time": "2024-11-02T03:35:53.260054Z",
     "start_time": "2024-11-02T03:35:53.196232Z"
    }
   },
   "cell_type": "code",
   "source": [
    "data = load_data(2024)\n",
    "data = data.drop(\"open_interest\", axis=1)\n",
    "data.head()"
   ],
   "id": "a275a03c88f5ae7",
   "execution_count": 47,
   "outputs": []
  },
  {
   "metadata": {
    "ExecuteTime": {
     "end_time": "2024-11-02T03:02:12.136066Z",
     "start_time": "2024-11-02T03:02:12.131082Z"
    }
   },
   "cell_type": "code",
   "source": [
    "import pandas as pd\n",
    "\n",
    "# Load the data files to explore the structure\n",
    "file_path_stocks_info = '/mnt/data/hs300stocks_2024.csv'\n",
    "file_path_kdata = '/mnt/data/hs300stocks_kdata_2024.csv'\n",
    "\n",
    "# Load the CSV files\n",
    "stocks_info = pd.read_csv(file_path_stocks_info)\n",
    "kdata = pd.read_csv(file_path_kdata)\n",
    "\n",
    "# Display the first few rows of each file to understand their structure\n",
    "stocks_info.head(), kdata.head()\n"
   ],
   "id": "6a3fe98f3c326a1e",
   "execution_count": 17,
   "outputs": []
  },
  {
   "metadata": {
    "ExecuteTime": {
     "end_time": "2024-11-03T08:02:49.454003Z",
     "start_time": "2024-11-03T08:02:49.432412Z"
    }
   },
   "cell_type": "code",
   "source": [
    "import pandas as pd\n",
    "import numpy as np\n",
    "import matplotlib.pyplot as plt\n",
    "from sklearn.preprocessing import StandardScaler\n",
    "import os\n",
    "\n",
    "data_folder = './沪深300成分股的数据/'\n",
    "\n",
    "def load_data(year):\n",
    "    stock_info_path = os.path.join(data_folder, f'hs300stocks_{year}.csv')\n",
    "    kdata_path = os.path.join(data_folder, f'hs300stocks_kdata_{year}.csv')\n",
    "\n",
    "    # 读取CSV文件\n",
    "    stock_info = pd.read_csv(stock_info_path)\n",
    "    kdata = pd.read_csv(kdata_path)\n",
    "\n",
    "    # 合并成分股信息和每日行情数据\n",
    "    data = pd.merge(kdata, stock_info[['code', 'weight']], on='code', how='left')\n",
    "    return data\n",
    "\n",
    "def min_max_scaling(series):\n",
    "    if series.max() == series.min():\n",
    "        return pd.Series([0] * len(series))  # 如果所有值相同，返回全0的系列\n",
    "    return (series - series.min()) / (series.max() - series.min())\n",
    "\n",
    "def calculate_liquidity_index(stocks_data):\n",
    "    # 确保时间列存在并转换为日期格式\n",
    "    if 'time' not in stocks_data.columns:\n",
    "        raise KeyError(\"数据中缺少 'time' 列，请检查数据格式。\")\n",
    "\n",
    "    stocks_data['time'] = pd.to_datetime(stocks_data['time'], errors='coerce')\n",
    "\n",
    "    # 检查日期转换是否成功\n",
    "    if stocks_data['time'].isnull().any():\n",
    "        raise ValueError(\"日期格式不正确，无法转换为日期。请检查数据中的 'time' 列。\")\n",
    "\n",
    "    # 计算流动性指标\n",
    "    grouped_data = stocks_data.groupby('time').agg({\n",
    "        'volume': 'sum',\n",
    "        'amount': 'sum'\n",
    "    }).reset_index()\n",
    "\n",
    "    # 换手率的近似计算\n",
    "    total_volume = grouped_data['volume'].sum()\n",
    "    grouped_data['TurnoverRate'] = grouped_data['volume'] / total_volume if total_volume > 0 else 0\n",
    "\n",
    "    # 标准化数据（Min-Max）\n",
    "    grouped_data[['volume', 'amount', 'TurnoverRate']] = grouped_data[['volume', 'amount', 'TurnoverRate']].apply(min_max_scaling)\n",
    "\n",
    "    # 计算每年的流动性指标\n",
    "    yearly_liquidity = grouped_data.groupby(grouped_data['time'].dt.year).agg({\n",
    "        'volume': 'mean',\n",
    "        'amount': 'mean',\n",
    "        'TurnoverRate': 'mean'\n",
    "    }).reset_index()\n",
    "\n",
    "    # 计算市场流动性（三个指标的平均值）\n",
    "    yearly_liquidity['MarketLiquidity'] = yearly_liquidity[['volume', 'amount', 'TurnoverRate']].mean(axis=1)\n",
    "\n",
    "    # 返回流动性指标\n",
    "    liquidity_df = pd.DataFrame({\n",
    "        'Year': pd.to_datetime(yearly_liquidity['time']).dt.year,\n",
    "        'AverageVolume': yearly_liquidity['volume'],\n",
    "        'AverageAmount': yearly_liquidity['amount'],\n",
    "        'AverageTurnoverRate': yearly_liquidity['TurnoverRate'],\n",
    "        'MarketLiquidity': yearly_liquidity['MarketLiquidity']\n",
    "    })\n",
    "\n",
    "    return liquidity_df\n",
    "\n",
    "def visualize_liquidity_index(all_liquidity_df):\n",
    "    # 绘图\n",
    "    plt.figure(figsize=(12, 8))\n",
    "    plt.plot(all_liquidity_df['Year'], all_liquidity_df['AverageVolume'], marker='o', label='平均成交量')\n",
    "    plt.plot(all_liquidity_df['Year'], all_liquidity_df['AverageAmount'], marker='o', label='平均成交额')\n",
    "    plt.plot(all_liquidity_df['Year'], all_liquidity_df['AverageTurnoverRate'], marker='o', label='平均换手率')\n",
    "    plt.plot(all_liquidity_df['Year'], all_liquidity_df['MarketLiquidity'], marker='o', label='市场流动性')\n",
    "\n",
    "    plt.title('2014-2024年市场流动性指标')\n",
    "    plt.xlabel('年份')\n",
    "    plt.ylabel('流动性指标（标准化后）')\n",
    "    plt.xticks(all_liquidity_df['Year'])  # 显示年份\n",
    "    plt.legend()\n",
    "    plt.grid()\n",
    "    plt.show()\n",
    "\n",
    "# 主程序\n",
    "if __name__ == \"__main__\":\n",
    "    all_liquidity_df = pd.DataFrame()  # 创建一个空的数据框以存储所有年份的流动性指标\n",
    "    for year in range(2014, 2025):\n",
    "        stocks_data = load_data(year)\n",
    "        liquidity_df = calculate_liquidity_index(stocks_data)\n",
    "        all_liquidity_df = pd.concat([all_liquidity_df, liquidity_df], ignore_index=True)\n",
    "\n",
    "        # 打印每年的流动性指标\n",
    "        print(f\"{year} 年的平均成交量: {liquidity_df['AverageVolume'].mean():.2f}, \"\n",
    "              f\"平均成交额: {liquidity_df['AverageAmount'].mean():.2f}, \"\n",
    "              f\"平均换手率: {liquidity_df['AverageTurnoverRate'].mean():.4f}, \"\n",
    "              f\"市场流动性: {liquidity_df['MarketLiquidity'].mean():.4f}\")\n",
    "\n",
    "    # 检查最终合并的数据框是否为空\n",
    "    if not all_liquidity_df.empty:\n",
    "        visualize_liquidity_index(all_liquidity_df)\n",
    "    else:\n",
    "        print(\"没有有效的流动性指标数据可供绘图。\")\n"
   ],
   "id": "dd44c7048e117cd1",
   "execution_count": 51,
   "outputs": []
  },
  {
   "metadata": {
    "ExecuteTime": {
     "end_time": "2024-11-03T15:30:26.925528Z",
     "start_time": "2024-11-03T15:30:26.188182Z"
    }
   },
   "cell_type": "code",
   "source": [
    "import pandas as pd\n",
    "import numpy as np\n",
    "from scipy.optimize import minimize\n",
    "\n",
    "# 读取股票价格数据\n",
    "try:\n",
    "    price_data = pd.read_csv(\n",
    "        './沪深300成分股的数据/hs300stocks_kdata_2014.csv')\n",
    "except FileNotFoundError:\n",
    "    print(\"文件 hs300stocks_kdata_2014.csv 未找到，请检查路径是否正确。\")\n",
    "    exit()\n",
    "\n",
    "# 将日期列 \"time\" 转换为日期格式并保留日期部分\n",
    "price_data['time'] = pd.to_datetime(price_data['time']).dt.date\n",
    "price_data = price_data.set_index(['time', 'code'])\n",
    "\n",
    "# 按股票代码计算每日收盘价的收益率矩阵\n",
    "returns = price_data['close'].unstack(level=1).pct_change(fill_method=None).dropna()\n",
    "\n",
    "# 读取权重数据\n",
    "try:\n",
    "    weights_data = pd.read_csv(\n",
    "        r'./沪深300成分股的数据/hs300stocks_2014.csv')\n",
    "except FileNotFoundError:\n",
    "    print(\"文件 hs300stocks_2014.csv 未找到，请检查路径是否正确。\")\n",
    "    exit()\n",
    "\n",
    "# 确保权重数据的列名为 'code' 和 'weight'\n",
    "if 'code' not in weights_data.columns or 'weight' not in weights_data.columns:\n",
    "    print(\"请检查权重数据的列名，确保其分别为 'code' 和 'weight'\")\n",
    "    exit()\n",
    "\n",
    "# 设置股票代码为索引，并按 `returns` 中的股票代码对齐权重数据\n",
    "weights_data = weights_data.set_index('code')\n",
    "weights_data = weights_data.loc[returns.columns]  # 按 returns 中的股票代码对齐\n",
    "stock_weights = weights_data['weight']\n",
    "stock_weights /= stock_weights.sum()  # 归一化权重\n",
    "\n",
    "# 确保对齐后的 returns 和 stock_weights 长度一致\n",
    "if len(stock_weights) != returns.shape[1]:\n",
    "    print(\"权重数据的长度与收益率数据的列数不匹配，请检查数据的一致性。\")\n",
    "    exit()\n",
    "\n",
    "# 定义无风险利率\n",
    "risk_free_rate = 0.03\n",
    "\n",
    "\n",
    "# 定义夏普比率的负值（添加最大回撤惩罚项）\n",
    "def sharpe_ratio_with_drawdown_penalty(weights, returns, risk_free_rate, max_drawdown=0.7, penalty_factor=100):\n",
    "    mean_returns = returns.mean()\n",
    "    cov_matrix = returns.cov()\n",
    "    portfolio_return = np.dot(weights, mean_returns)\n",
    "    portfolio_volatility = np.sqrt(np.dot(weights.T, np.dot(cov_matrix, weights)))\n",
    "    sharpe_ratio = (portfolio_return - risk_free_rate) / portfolio_volatility\n",
    "\n",
    "    # 计算组合的最大回撤\n",
    "    portfolio_returns = returns.dot(weights)\n",
    "    cumulative_returns = (portfolio_returns + 1).cumprod() - 1\n",
    "    peak = cumulative_returns.cummax()\n",
    "    drawdown = (peak - cumulative_returns) / peak\n",
    "    max_drawdown_observed = drawdown.max()\n",
    "\n",
    "    # 若最大回撤超出0.7，增加惩罚项\n",
    "    penalty = penalty_factor * max(0, max_drawdown_observed - max_drawdown)\n",
    "    return -sharpe_ratio + penalty\n",
    "\n",
    "\n",
    "# 约束条件：权重之和为1\n",
    "constraints = [{'type': 'eq', 'fun': lambda weights: np.sum(weights) - 1}]\n",
    "\n",
    "# 将单只股票的权重上限降到5%以增加分散化\n",
    "weight_limit = 0.05\n",
    "bounds = tuple((0, weight_limit) for _ in range(len(stock_weights)))\n",
    "\n",
    "# 初始权重\n",
    "initial_weights = stock_weights.values\n",
    "\n",
    "# 优化\n",
    "optimized = minimize(sharpe_ratio_with_drawdown_penalty, initial_weights, args=(returns, risk_free_rate),\n",
    "                     method='SLSQP', bounds=bounds, constraints=constraints)\n",
    "\n",
    "# 输出优化结果\n",
    "if optimized.success:\n",
    "    optimized_weights = optimized.x\n",
    "    expected_return = np.dot(optimized_weights, returns.mean())\n",
    "    volatility = np.sqrt(np.dot(optimized_weights.T, np.dot(returns.cov(), optimized_weights)))\n",
    "\n",
    "    # 计算最终组合的最大回撤\n",
    "    portfolio_returns = returns.dot(optimized_weights)\n",
    "    cumulative_returns = (portfolio_returns + 1).cumprod() - 1\n",
    "    peak = cumulative_returns.cummax()\n",
    "    drawdown = (peak - cumulative_returns) / peak\n",
    "    max_drawdown_observed = drawdown.max()\n",
    "\n",
    "    print(\"Optimized Portfolio Weights:\", optimized_weights)\n",
    "    print(\"Expected Portfolio Return:\", expected_return)\n",
    "    print(\"Portfolio Volatility:\", volatility)\n",
    "    print(\"Max Drawdown:\", max_drawdown_observed)\n",
    "else:\n",
    "    print(\"Optimization failed:\", optimized.message)"
   ],
   "id": "c88754edc50ccfb5",
   "execution_count": 1,
   "outputs": []
  }
 ],
 "metadata": {
  "kernelspec": {
   "display_name": "Python 3",
   "language": "python",
   "name": "python3"
  },
  "language_info": {
   "codemirror_mode": {
    "name": "ipython",
    "version": 2
   },
   "file_extension": ".py",
   "mimetype": "text/x-python",
   "name": "python",
   "nbconvert_exporter": "python",
   "pygments_lexer": "ipython2",
   "version": "2.7.6"
  }
 },
 "nbformat": 4,
 "nbformat_minor": 5
}
